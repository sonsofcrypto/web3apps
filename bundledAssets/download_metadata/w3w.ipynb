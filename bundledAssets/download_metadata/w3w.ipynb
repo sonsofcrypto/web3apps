{
 "cells": [
  {
   "cell_type": "code",
   "execution_count": 1,
   "outputs": [
    {
     "data": {
      "text/plain": "True"
     },
     "execution_count": 1,
     "metadata": {},
     "output_type": "execute_result"
    }
   ],
   "source": [
    "import json\n",
    "from dotenv import load_dotenv\n",
    "\n",
    "from coin_checko_api import CoinGeckoAPI, ExecPolicy\n",
    "from utils import write_json_file, read_json_file\n",
    "\n",
    "load_dotenv() "
   ],
   "metadata": {
    "collapsed": false,
    "ExecuteTime": {
     "end_time": "2023-12-16T00:58:18.540386730Z",
     "start_time": "2023-12-16T00:58:18.536037048Z"
    }
   },
   "id": "4f6174abe5096364"
  },
  {
   "cell_type": "code",
   "execution_count": 2,
   "outputs": [
    {
     "name": "stdout",
     "output_type": "stream",
     "text": [
      "Downloaded coins  11482\n",
      "Downloaded markets  11482\n"
     ]
    }
   ],
   "source": [
    "from w3w import eth_native_and_erc20, change_id_to_coingecko\n",
    "from w3w import transform_to_markets_dict, img_metas, sort_by_rank, ranked_only_coins\n",
    "\n",
    "coins = read_json_file('data/coins.json')\n",
    "print('Downloaded coins ', len(coins))\n",
    "\n",
    "markets = read_json_file('data/markets.json')\n",
    "print('Downloaded markets ', len(markets))"
   ],
   "metadata": {
    "collapsed": false,
    "ExecuteTime": {
     "end_time": "2023-12-16T00:58:20.921281870Z",
     "start_time": "2023-12-16T00:58:19.885713050Z"
    }
   },
   "id": "26d1a0d374e78bf4"
  },
  {
   "cell_type": "code",
   "execution_count": 3,
   "outputs": [
    {
     "name": "stdout",
     "output_type": "stream",
     "text": [
      "Filtered out unsupported, remaining count 4778\n",
      "Ranked only count 2077\n"
     ]
    }
   ],
   "source": [
    "# Include only native or ethereum ERC20s\n",
    "\n",
    "coins = eth_native_and_erc20(coins)\n",
    "coins = change_id_to_coingecko(coins)\n",
    "markets_dict = transform_to_markets_dict(markets)\n",
    "\n",
    "coins = sort_by_rank(coins, markets_dict)\n",
    "coins_ranked_only = ranked_only_coins(coins, markets_dict)\n",
    "img_meta = img_metas(coins, markets_dict)\n",
    "img_meta_ranked_only = img_metas(coins_ranked_only, markets_dict)\n",
    "\n",
    "print('Filtered out unsupported, remaining count', len(coins))\n",
    "print('Ranked only count', len(coins_ranked_only))"
   ],
   "metadata": {
    "collapsed": false,
    "ExecuteTime": {
     "end_time": "2023-12-16T00:58:23.159744779Z",
     "start_time": "2023-12-16T00:58:23.126673593Z"
    }
   },
   "id": "17225b3a7e5bf06"
  },
  {
   "cell_type": "code",
   "execution_count": 4,
   "outputs": [
    {
     "name": "stdout",
     "output_type": "stream",
     "text": [
      "cache_currencies.json\n",
      "Coins:  4778\n",
      "cache_markets.json\n"
     ]
    }
   ],
   "source": [
    "from w3w import create_cache_markets, sort_by_rank, create_cache_currencies\n",
    "\n",
    "\n",
    "from typing import List, Dict\n",
    "\n",
    "print('cache_currencies.json')\n",
    "coins = sort_by_rank(coins, markets_dict)\n",
    "coins = create_cache_currencies(coins)\n",
    "write_json_file('data/cache_currencies_1.json', coins)\n",
    "print(\"Coins: \", len(coins))\n",
    "\n",
    "print('cache_markets.json')\n",
    "min_markets_dict = create_cache_markets(coins, markets_dict)\n",
    "write_json_file('data/cache_markets.json', min_markets_dict)"
   ],
   "metadata": {
    "collapsed": false,
    "ExecuteTime": {
     "end_time": "2023-12-16T00:58:28.870779945Z",
     "start_time": "2023-12-16T00:58:26.763709074Z"
    }
   },
   "id": "a503bec9a6632c0c"
  },
  {
   "cell_type": "code",
   "execution_count": 5,
   "outputs": [
    {
     "name": "stdout",
     "output_type": "stream",
     "text": [
      "Resizing\n",
      " Resizing image thecash.png idx: 6520 / 6521, 100.0%       x: 6519 / 6521, 100.0%                               \n",
      "Failed load count 0\n",
      "Failed resize count 0\n",
      "cache_metadatas.json\n",
      " Colors zurrency idx: 4777 / 4778, 100.0%       metadata count 4778 / 4778, 99.5%           %          \n"
     ]
    }
   ],
   "source": [
    "from w3w import create_cache_metadatas, rename_known_bad_img_names\n",
    "from w3w import apply_override_images, resize_images\n",
    "\n",
    "print(\"Resizing\")\n",
    "rename_known_bad_img_names()\n",
    "apply_override_images()\n",
    "resize_images()\n",
    "\n",
    "print('cache_metadatas.json')\n",
    "cache_metadatas = create_cache_metadatas(coins)\n",
    "write_json_file('data/cache_metadatas.json', cache_metadatas)\n",
    "print(\"metadata count\", len(cache_metadatas))"
   ],
   "metadata": {
    "collapsed": false,
    "ExecuteTime": {
     "end_time": "2023-12-16T00:15:25.421120458Z",
     "start_time": "2023-12-15T23:59:36.128544147Z"
    }
   },
   "id": "ddc22c6c6fba9ee2"
  },
  {
   "cell_type": "markdown",
   "source": [],
   "metadata": {
    "collapsed": false
   },
   "id": "62bc9ee646756a"
  },
  {
   "cell_type": "code",
   "execution_count": 5,
   "outputs": [],
   "source": [
    "from w3w import copy_imgs_to_3x\n",
    "copy_imgs_to_3x(img_meta_ranked_only)"
   ],
   "metadata": {
    "collapsed": false,
    "ExecuteTime": {
     "end_time": "2023-12-16T00:59:02.436450397Z",
     "start_time": "2023-12-16T00:59:02.236654601Z"
    }
   },
   "id": "85eac70b86a1027e"
  }
 ],
 "metadata": {
  "kernelspec": {
   "display_name": "Python 3",
   "language": "python",
   "name": "python3"
  },
  "language_info": {
   "codemirror_mode": {
    "name": "ipython",
    "version": 2
   },
   "file_extension": ".py",
   "mimetype": "text/x-python",
   "name": "python",
   "nbconvert_exporter": "python",
   "pygments_lexer": "ipython2",
   "version": "2.7.6"
  }
 },
 "nbformat": 4,
 "nbformat_minor": 5
}
