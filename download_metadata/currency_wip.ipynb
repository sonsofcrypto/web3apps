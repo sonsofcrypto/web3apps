{
 "cells": [
  {
   "cell_type": "code",
   "execution_count": 32,
   "outputs": [],
   "source": [
    "import urllib\n",
    "from urllib.parse import urljoin, urlparse\n",
    "import json\n",
    "\n",
    "def write(json_data: dict, file_name: str):\n",
    "    with open(file_name, 'w') as f:\n",
    "        f.write(json.dumps(json_data))\n",
    "\n",
    "def file_name_for_url(url: str) -> str:\n",
    "    return urljoin(url, urlparse(url).path).rsplit('/', 1)[-1]\n",
    "\n",
    "def file_extension_for_url(url: str) -> str:\n",
    "    return os.path.splitext(file_name_for_url(url))[-1]\n",
    "\n",
    "def cache_image_file_name(id: str, url: str) -> str:\n",
    "    return id + file_extension_for_url(url)\n",
    "\n",
    "space = '         '\n",
    "req_interval = 1.25\n",
    "req_interval_long = 60 * 5"
   ],
   "metadata": {
    "collapsed": false,
    "pycharm": {
     "name": "#%%\n"
    }
   }
  },
  {
   "cell_type": "code",
   "execution_count": 14,
   "outputs": [
    {
     "name": "stdout",
     "output_type": "stream",
     "text": [
      "Downloaded list of  12968\n"
     ]
    }
   ],
   "source": [
    "# Download list of all currencies\n",
    "import time\n",
    "\n",
    "url = 'https://api.coingecko.com/api/v3/coins/list?include_platform=true'\n",
    "response = urllib.request.urlopen(url)\n",
    "currencies = json.loads(response.read())\n",
    "write(currencies, 'tmp_step_01.json')\n",
    "print('Downloaded list of ', len(currencies))\n",
    "time.sleep(req_interval)"
   ],
   "metadata": {
    "collapsed": false,
    "pycharm": {
     "name": "#%%\n"
    }
   }
  },
  {
   "cell_type": "code",
   "execution_count": 15,
   "outputs": [
    {
     "name": "stdout",
     "output_type": "stream",
     "text": [
      "Filtered out unsupported, remaining count 6311\n"
     ]
    }
   ],
   "source": [
    "# Include only native or ethereum ERC20s\n",
    "\n",
    "def include(currency: dict) -> bool:\n",
    "    if len(currency['platforms']) == 0:\n",
    "        return True\n",
    "    if 'ethereum' in currency['platforms']:\n",
    "        return len(currency['platforms']['ethereum']) != 0\n",
    "    return False\n",
    "\n",
    "currencies = list(filter(lambda c: include(c) , currencies))\n",
    "\n",
    "# Change id to coinGeckoId\n",
    "for currency in currencies:\n",
    "    currency['coinGeckoId'] = currency['id']\n",
    "    currency.pop('id', None )\n",
    "\n",
    "write(currencies, 'tmp_step_02.json')\n",
    "print('Filtered out unsupported, remaining count', len(currencies))"
   ],
   "metadata": {
    "collapsed": false,
    "pycharm": {
     "name": "#%%\n"
    }
   }
  },
  {
   "cell_type": "code",
   "execution_count": null,
   "outputs": [
    {
     "name": "stdout",
     "output_type": "stream",
     "text": [
      " Downloaded metadata 111"
     ]
    }
   ],
   "source": [
    "# Get image url rank description\n",
    "import time\n",
    "import numpy as np\n",
    "import requests\n",
    "\n",
    "base_url = 'https://api.coingecko.com/api/v3/coins/'\n",
    "query_params = '?localization=false&tickers=false&market_data=false&community_data=false&developer_data=false&sparkline=false'\n",
    "\n",
    "for idx, currency in enumerate(currencies):\n",
    "    url = base_url + currency['coinGeckoId'] + query_params\n",
    "    info = dict()\n",
    "    try:\n",
    "        response = urllib.request.urlopen(url)\n",
    "        info = json.loads(response.read())\n",
    "    except:\n",
    "        print('\\r', 'Sleeping for 61s', idx, space, end='')\n",
    "        time.sleep(req_interval_long)\n",
    "        response = urllib.request.urlopen(url)\n",
    "        info = json.loads(response.read())\n",
    "\n",
    "    if 'image' in info and 'large' in info['image']:\n",
    "        currency['imageUrl'] = info['image']['large']\n",
    "\n",
    "    if 'coingecko_rank' in info:\n",
    "        currency['rank'] = info['coingecko_rank']\n",
    "    else:\n",
    "        currency['rank'] = 1000000\n",
    "    if 'links' in info:\n",
    "        if 'homepage' in info['links'] and len(info['links']['homepage']) != 0:\n",
    "            currency['link'] = info['links']['homepage'][0]\n",
    "\n",
    "        if 'twitter_screen_name' in info['links'] is not None:\n",
    "            currency['twitter'] = info['links']['twitter_screen_name']\n",
    "\n",
    "    if 'description' in info and len(info['description']['en']) != 0:\n",
    "        currency['description'] = info['description']['en']\n",
    "\n",
    "    write(currencies, 'tmp_step_03.json')\n",
    "    print('\\r', 'Downloaded metadata', idx, end='')\n",
    "    time.sleep(req_interval)\n",
    "\n",
    "currencies = sorted(currencies, key=lambda x: x.rank)\n",
    "write(currencies, 'tmp_step_03.json')"
   ],
   "metadata": {
    "collapsed": false,
    "pycharm": {
     "name": "#%%\n",
     "is_executing": true
    }
   }
  },
  {
   "cell_type": "code",
   "execution_count": null,
   "outputs": [],
   "source": [
    "# Download images if needed\n",
    "import os\n",
    "import platform\n",
    "import requests\n",
    "import shutil\n",
    "\n",
    "headers = requests.utils.default_headers()\n",
    "default_agent = headers['User-Agent']\n",
    "headers.update({'User-Agent': default_agent + ' (' + platform.platform() + ')'})\n",
    "failed = list()\n",
    "\n",
    "def download_image(currency: dict) -> int:\n",
    "    image_name = cache_image_file_name(currency['coinGeckoId'], currency['imageUrl'])\n",
    "    image_path = 'images/' + image_name\n",
    "    if os.path.exists(image_path) == True or currency['imageUrl'] is None:\n",
    "        return 200\n",
    "    else:\n",
    "        time.sleep(req_interval)\n",
    "        res = requests.get(url, headers = headers, stream = True)\n",
    "        if res.status_code == 200:\n",
    "            with open(image_path, 'wb') as f:\n",
    "                shutil.copyfileobj(res.raw, f)\n",
    "                print('\\r', 'Downloaded image', image_name, idx, space, end='')\n",
    "        return res.status_code\n",
    "\n",
    "for idx, currency in enumerate(currencies):\n",
    "    status_code = download_image(currency)\n",
    "    if status_code == 429:\n",
    "        print('\\r', 'Sleeping', currency['coinGeckoId'], idx, space, end='')\n",
    "        time.sleep(req_interval_long)\n",
    "\n",
    "print('Failed count', len(failed))"
   ],
   "metadata": {
    "collapsed": false,
    "pycharm": {
     "name": "#%%\n"
    }
   }
  },
  {
   "cell_type": "code",
   "execution_count": null,
   "outputs": [],
   "source": [
    "# Download market data"
   ],
   "metadata": {
    "collapsed": false,
    "pycharm": {
     "name": "#%%\n"
    }
   }
  },
  {
   "cell_type": "code",
   "execution_count": 26,
   "outputs": [
    {
     "name": "stdout",
     "output_type": "stream",
     "text": [
      " Resizing image kaiba-defi.png 3667 / 3668              / 3668                  / 3668          \n",
      "Failed images count 0\n"
     ]
    }
   ],
   "source": [
    "# Resize images\n",
    "from PIL import Image\n",
    "import os\n",
    "\n",
    "image_length = 32 * 3\n",
    "count = len(os.listdir('images/'))\n",
    "failed_resize_images = list()\n",
    "\n",
    "for idx, image_name in enumerate(os.listdir('images/')):\n",
    "    path = 'images/' + image_name\n",
    "    image = None\n",
    "    try:\n",
    "        image = Image.open(path)\n",
    "    except:\n",
    "        os.remove(path)\n",
    "        print('\\r', 'Removing image', image_name, idx, '/', count, space, end='')\n",
    "    if image is not None:\n",
    "        if image.size[0] != image_length or image.size[1] != image_length:\n",
    "            image = image.resize((image_length, image_length), reducing_gap=3.0)\n",
    "            try:\n",
    "                image.save(path)\n",
    "            except:\n",
    "                failed_resize_images.append(path)\n",
    "    print('\\r', 'Resizing image', image_name, idx, '/', count, space, end='')\n",
    "\n",
    "print('')\n",
    "for failed_path in failed_resize_images:\n",
    "    print(failed_path)\n",
    "print('Failed images count', len(failed_resize_images))"
   ],
   "metadata": {
    "collapsed": false,
    "pycharm": {
     "name": "#%%\n"
    }
   }
  },
  {
   "cell_type": "code",
   "execution_count": 36,
   "outputs": [
    {
     "name": "stdout",
     "output_type": "stream",
     "text": [
      " Colors coin.png 1369 / 6311                       6311                      "
     ]
    }
   ],
   "source": [
    "# Get color images\n",
    "from PIL import ImageColor\n",
    "import numpy as np\n",
    "import sklearn\n",
    "import sklearn.cluster\n",
    "import scipy\n",
    "import scipy.cluster\n",
    "import json\n",
    "\n",
    "currencies = None\n",
    "with open('tmp_step_03.json', 'r') as f:\n",
    "  currencies = json.load(f)\n",
    "\n",
    "count = len(currencies)\n",
    "\n",
    "def rgba_to_hex(r, g, b, a):\n",
    "  return ('#{:02X}{:02X}{:02X}{:02X}').format(r, g, b, a)\n",
    "\n",
    "def rgb_to_hex(r, g, b):\n",
    "  return ('#{:02X}{:02X}{:02X}').format(r, g, b)\n",
    "\n",
    "class Color:\n",
    "    def __init__(self, rgba):\n",
    "        self.rgba = rgba\n",
    "        self.hex = rgb_to_hex(rgba[0], rgba[1], rgba[2])\n",
    "        self.average = (rgba[0] + rgba[1] + rgba[2]) / 3\n",
    "\n",
    "def dominant_colors(image: Image):  # PIL image input\n",
    "    ar = np.asarray(image)\n",
    "    shape = ar.shape\n",
    "    ar = ar.reshape(np.product(shape[:2]), shape[2]).astype(float)\n",
    "\n",
    "    kmeans = sklearn.cluster.MiniBatchKMeans(n_clusters=10, init=\"k-means++\", max_iter=20, random_state=1000).fit(ar)\n",
    "    codes = kmeans.cluster_centers_\n",
    "\n",
    "    vecs, _dist = scipy.cluster.vq.vq(ar, codes)      # assign codes\n",
    "    counts, _bins = np.histogram(vecs, len(codes))    # count occurrences\n",
    "\n",
    "    colors = []\n",
    "    for index in np.argsort(counts)[::-1]:\n",
    "        colors.append(tuple([int(code) for code in codes[index]]))\n",
    "    return colors   # returns colors in order of dominance\n",
    "\n",
    "\n",
    "for idx, currency in enumerate(currencies):\n",
    "    image = None\n",
    "    try:\n",
    "        image_name = cache_image_file_name(currency['coinGeckoId'], currency['imageUrl'])\n",
    "        image_path = 'images/' + image_name\n",
    "        image = Image.open(image_path)\n",
    "    except:\n",
    "        currency[\"colors\"] = [\"#FFFFFF\", \"#000000\"]\n",
    "        continue\n",
    "    image = image = image.convert(\"RGBA\")\n",
    "    colors_rgba = dominant_colors(image)\n",
    "    colors = map(lambda rgba: Color(rgba), colors_rgba)\n",
    "    colors = filter(lambda color: color.average != 0 and color.average != 255, colors)\n",
    "    colors = sorted(colors, key=lambda x: x.average)\n",
    "    if len(colors) == 0:\n",
    "        currency[\"colors\"] = [\"#FFFFFF\", \"#000000\"]\n",
    "    else:\n",
    "        currency[\"colors\"] = [\n",
    "            colors[int(len(colors) * 0.33)].hex,\n",
    "            colors[int(len(colors) * 0.66)].hex\n",
    "        ]\n",
    "    write(currencies, 'tmp_step_04.json')\n",
    "    print('\\r', 'Colors', image_name, idx, '/', count, space, end='')"
   ],
   "metadata": {
    "collapsed": false,
    "pycharm": {
     "name": "#%%\n"
    }
   }
  },
  {
   "cell_type": "code",
   "execution_count": null,
   "outputs": [],
   "source": [
    "# Handle overrides"
   ],
   "metadata": {
    "collapsed": false,
    "pycharm": {
     "name": "#%%\n"
    }
   }
  }
 ],
 "metadata": {
  "kernelspec": {
   "display_name": "Python 3",
   "language": "python",
   "name": "python3"
  },
  "language_info": {
   "codemirror_mode": {
    "name": "ipython",
    "version": 2
   },
   "file_extension": ".py",
   "mimetype": "text/x-python",
   "name": "python",
   "nbconvert_exporter": "python",
   "pygments_lexer": "ipython2",
   "version": "2.7.6"
  }
 },
 "nbformat": 4,
 "nbformat_minor": 0
}