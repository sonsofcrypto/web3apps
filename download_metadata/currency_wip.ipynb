{
 "cells": [
  {
   "cell_type": "code",
   "execution_count": 8,
   "outputs": [],
   "source": [
    "import json\n",
    "import requests\n",
    "import platform\n",
    "import urllib\n",
    "import time\n",
    "from urllib.parse import urljoin, urlparse\n",
    "\n",
    "def write(json_data: dict, file_name: str):\n",
    "    with open(file_name, 'w') as f:\n",
    "        f.write(json.dumps(json_data))\n",
    "\n",
    "def file_name_for_url(url: str) -> str:\n",
    "    return urljoin(url, urlparse(url).path).rsplit('/', 1)[-1]\n",
    "\n",
    "def file_extension_for_url(url: str) -> str:\n",
    "    return os.path.splitext(file_name_for_url(url))[-1]\n",
    "\n",
    "def cache_image_file_name(id: str, url: str) -> str:\n",
    "    return id + file_extension_for_url(url)\n",
    "\n",
    "headers = requests.utils.default_headers()\n",
    "default_agent = headers['User-Agent']\n",
    "headers.update({'User-Agent': default_agent + ' (' + platform.platform() + ')'})\n",
    "\n",
    "market_keys_to_remove = [\n",
    "    'id', 'symbol', 'name', 'image', 'market_cap_rank', 'fully_diluted_valuation', 'high_24h', 'low_24h', 'price_change_24h', 'market_cap_change_24h', 'market_cap_change_percentage_24h', 'circulating_supply', 'max_supply', 'ath', 'ath_change_percentage', 'ath_date', 'atl', 'atl_change_percentage', 'atl_date', 'last_updated', 'price_change_percentage_24h_in_currency', 'roi'\n",
    "]\n",
    "\n",
    "space = '         '\n",
    "req_interval = 1.25\n",
    "req_interval_long = 60 * 5"
   ],
   "metadata": {
    "collapsed": false,
    "pycharm": {
     "name": "#%%\n"
    }
   }
  },
  {
   "cell_type": "code",
   "execution_count": 2,
   "outputs": [
    {
     "name": "stdout",
     "output_type": "stream",
     "text": [
      "Downloaded list of  12958\n"
     ]
    }
   ],
   "source": [
    "# Download list of all currencies\n",
    "\n",
    "url = 'https://api.coingecko.com/api/v3/coins/list?include_platform=true'\n",
    "response = urllib.request.urlopen(url)\n",
    "currencies = json.loads(response.read())\n",
    "write(currencies, 'tmp_step_01.json')\n",
    "print('Downloaded list of ', len(currencies))\n",
    "time.sleep(req_interval)"
   ],
   "metadata": {
    "collapsed": false,
    "pycharm": {
     "name": "#%%\n"
    }
   }
  },
  {
   "cell_type": "code",
   "execution_count": 3,
   "outputs": [
    {
     "name": "stdout",
     "output_type": "stream",
     "text": [
      "Filtered out unsupported, remaining count 4817\n"
     ]
    }
   ],
   "source": [
    "# Include only native or ethereum ERC20s\n",
    "\n",
    "def include(currency: dict) -> bool:\n",
    "    if len(currency['platforms']) == 0:\n",
    "        return currency['id'] == 'ethereum'\n",
    "    if 'ethereum' in currency['platforms']:\n",
    "        return len(currency['platforms']['ethereum']) != 0\n",
    "    return False\n",
    "\n",
    "currencies = list(filter(lambda c: include(c) , currencies))\n",
    "\n",
    "# Change id to coinGeckoId\n",
    "for currency in currencies:\n",
    "    currency['coinGeckoId'] = currency['id']\n",
    "    currency.pop('id', None )\n",
    "\n",
    "write(currencies, 'tmp_step_02.json')\n",
    "print('Filtered out unsupported, remaining count', len(currencies))"
   ],
   "metadata": {
    "collapsed": false,
    "pycharm": {
     "name": "#%%\n"
    }
   }
  },
  {
   "cell_type": "code",
   "execution_count": 4,
   "outputs": [
    {
     "name": "stdout",
     "output_type": "stream",
     "text": [
      " Ended page count 53 , market:  13208          "
     ]
    }
   ],
   "source": [
    "# Download market data\n",
    "\n",
    "def url(page: int) -> str:\n",
    "    url = \"https://api.coingecko.com/api/v3/coins/markets\"\n",
    "    url += \"?vs_currency=usd&order=market_cap_desc&per_page=250&page=\" + str(page)\n",
    "    url += \"&sparkline=false&price_change_percentage=24h\"\n",
    "    return url\n",
    "\n",
    "page = 0\n",
    "markets = list()\n",
    "while True:\n",
    "    response = requests.get(url(page), headers = headers, stream = False)\n",
    "    if response.status_code == 200:\n",
    "        page_markets = json.loads(response.content)\n",
    "        markets += page_markets\n",
    "        write(markets, 'tmp_step_03.json')\n",
    "        print('\\r', 'Downloaded markets page', page, space, end='')\n",
    "        time.sleep(req_interval)\n",
    "        if len(page_markets) == 0:\n",
    "            print('\\r', 'Ended page count', page, ', market: ', len(markets), space, end='')\n",
    "            break;\n",
    "    elif response.status_code == 429:\n",
    "        print('\\r', 'Long sleeps page', page, space, end='')\n",
    "        time.sleep(req_interval_long)\n",
    "    else:\n",
    "        print('\\r', 'Ended page count', page,  ', market: ', len(markets), response.status_code, space, end='')\n",
    "        break;\n",
    "    page += 1"
   ],
   "metadata": {
    "collapsed": false,
    "pycharm": {
     "name": "#%%\n"
    }
   }
  },
  {
   "cell_type": "code",
   "execution_count": 5,
   "outputs": [
    {
     "name": "stdout",
     "output_type": "stream",
     "text": [
      "4817\n",
      "2181\n",
      "2636\n"
     ]
    }
   ],
   "source": [
    "# Update currencies with rank and sort.\n",
    "markets_dict = dict()\n",
    "\n",
    "for market in markets:\n",
    "    # TODO strip un-needed values\n",
    "    markets_dict[market['id']] = market\n",
    "\n",
    "write(markets_dict, 'tmp_step_04.json')\n",
    "\n",
    "for currency in currencies:\n",
    "    if currency['coinGeckoId'] in markets_dict:\n",
    "        market = markets_dict[currency['coinGeckoId']]\n",
    "        currency['imageUrl'] = market['image']\n",
    "        if 'market_cap_rank' in market:\n",
    "            currency['rank'] = market['market_cap_rank']\n",
    "\n",
    "\n",
    "currencies_ranked = list()\n",
    "currencies_no_rank = list()\n",
    "\n",
    "for currency in currencies:\n",
    "    if 'rank' in currency and currency['rank'] is not None:\n",
    "        currencies_ranked.append(currency)\n",
    "    else:\n",
    "        currencies_no_rank.append(currency)\n",
    "\n",
    "print(len(currencies))\n",
    "print(len(currencies_ranked))\n",
    "print(len(currencies_no_rank))\n",
    "\n",
    "sorted_currencies = list(sorted(currencies_ranked, key=lambda x: x['rank']))\n",
    "sorted_currencies = sorted_currencies + currencies_no_rank\n",
    "write(sorted_currencies, 'tmp_step_05.json')\n",
    "currencies = sorted_currencies"
   ],
   "metadata": {
    "collapsed": false,
    "pycharm": {
     "name": "#%%\n"
    }
   }
  },
  {
   "cell_type": "code",
   "execution_count": 9,
   "outputs": [],
   "source": [
    "# Minimize currencies\n",
    "for currency in currencies:\n",
    "    if 'platforms' in currency and len(currency['platforms']) != 0:\n",
    "        currency['platforms'] = {'ethereum': currency['platforms']['ethereum']}\n",
    "\n",
    "write(currencies, 'tmp_step_06.json')\n",
    "\n",
    "# Minimize markets\n",
    "minimized_markets = dict()\n",
    "for currency in currencies:\n",
    "    id = currency['coinGeckoId']\n",
    "    if id in markets_dict:\n",
    "        market = markets_dict[id]\n",
    "        for key in market_keys_to_remove:\n",
    "            market.pop(key, None )\n",
    "        minimized_markets[id] = market\n",
    "\n",
    "write(minimized_markets, 'cache_markets.json')"
   ],
   "metadata": {
    "collapsed": false,
    "pycharm": {
     "name": "#%%\n"
    }
   }
  },
  {
   "cell_type": "code",
   "execution_count": null,
   "outputs": [
    {
     "name": "stdout",
     "output_type": "stream",
     "text": [
      " Downloaded metadata 111"
     ]
    }
   ],
   "source": [
    "# Get urls and description\n",
    "\n",
    "base_url = 'https://api.coingecko.com/api/v3/coins/'\n",
    "query_params = '?localization=false&tickers=false&market_data=false&community_data=false&developer_data=false&sparkline=false'\n",
    "\n",
    "for idx, currency in enumerate(currencies):\n",
    "    url = base_url + currency['coinGeckoId'] + query_params\n",
    "    info = dict()\n",
    "    try:\n",
    "        response = urllib.request.urlopen(url)\n",
    "        info = json.loads(response.read())\n",
    "    except:\n",
    "        print('\\r', 'Sleeping for 61s', idx, space, end='')\n",
    "        time.sleep(req_interval_long)\n",
    "        response = urllib.request.urlopen(url)\n",
    "        info = json.loads(response.read())\n",
    "\n",
    "    if 'links' in info:\n",
    "        if 'homepage' in info['links'] and len(info['links']['homepage']) != 0:\n",
    "            currency['link'] = info['links']['homepage'][0]\n",
    "\n",
    "        if 'twitter_screen_name' in info['links'] is not None:\n",
    "            currency['twitter'] = info['links']['twitter_screen_name']\n",
    "\n",
    "    if 'description' in info and len(info['description']['en']) != 0:\n",
    "        currency['description'] = info['description']['en']\n",
    "\n",
    "    write(currencies, 'tmp_step_07.json')\n",
    "    print('\\r', 'Downloaded metadata', idx, end='')\n",
    "    time.sleep(req_interval)\n",
    "\n",
    "currencies = sorted(currencies, key=lambda x: x.rank)\n",
    "write(currencies, 'tmp_step_06.json')"
   ],
   "metadata": {
    "collapsed": false,
    "pycharm": {
     "name": "#%%\n",
     "is_executing": true
    }
   }
  },
  {
   "cell_type": "code",
   "execution_count": null,
   "outputs": [],
   "source": [
    "# Download images if needed\n",
    "import os\n",
    "import requests\n",
    "import shutil\n",
    "\n",
    "failed = list()\n",
    "\n",
    "def download_image(currency: dict) -> int:\n",
    "    image_name = cache_image_file_name(currency['coinGeckoId'], currency['imageUrl'])\n",
    "    image_path = 'images/' + image_name\n",
    "    if os.path.exists(image_path) == True or currency['imageUrl'] is None:\n",
    "        return 200\n",
    "    else:\n",
    "        time.sleep(req_interval)\n",
    "        res = requests.get(url, headers = headers, stream = True)\n",
    "        if res.status_code == 200:\n",
    "            with open(image_path, 'wb') as f:\n",
    "                shutil.copyfileobj(res.raw, f)\n",
    "                print('\\r', 'Downloaded image', image_name, idx, space, end='')\n",
    "        return res.status_code\n",
    "\n",
    "for idx, currency in enumerate(currencies):\n",
    "    status_code = download_image(currency)\n",
    "    if status_code == 429:\n",
    "        print('\\r', 'Sleeping', currency['coinGeckoId'], idx, space, end='')\n",
    "        time.sleep(req_interval_long)\n",
    "\n",
    "print('Failed count', len(failed))"
   ],
   "metadata": {
    "collapsed": false,
    "pycharm": {
     "name": "#%%\n"
    }
   }
  },
  {
   "cell_type": "code",
   "execution_count": 26,
   "outputs": [
    {
     "name": "stdout",
     "output_type": "stream",
     "text": [
      " Resizing image kaiba-defi.png 3667 / 3668              / 3668                  / 3668          \n",
      "Failed images count 0\n"
     ]
    }
   ],
   "source": [
    "# Resize images\n",
    "from PIL import Image\n",
    "import os\n",
    "\n",
    "image_length = 32 * 3\n",
    "count = len(os.listdir('images/'))\n",
    "failed_resize_images = list()\n",
    "\n",
    "for idx, image_name in enumerate(os.listdir('images/')):\n",
    "    path = 'images/' + image_name\n",
    "    image = None\n",
    "    try:\n",
    "        image = Image.open(path)\n",
    "    except:\n",
    "        os.remove(path)\n",
    "        print('\\r', 'Removing image', image_name, idx, '/', count, space, end='')\n",
    "    if image is not None:\n",
    "        if image.size[0] != image_length or image.size[1] != image_length:\n",
    "            image = image.resize((image_length, image_length), reducing_gap=3.0)\n",
    "            try:\n",
    "                image.save(path)\n",
    "            except:\n",
    "                failed_resize_images.append(path)\n",
    "    print('\\r', 'Resizing image', image_name, idx, '/', count, space, end='')\n",
    "\n",
    "print('')\n",
    "for failed_path in failed_resize_images:\n",
    "    print(failed_path)\n",
    "print('Failed images count', len(failed_resize_images))"
   ],
   "metadata": {
    "collapsed": false,
    "pycharm": {
     "name": "#%%\n"
    }
   }
  },
  {
   "cell_type": "code",
   "execution_count": 36,
   "outputs": [
    {
     "name": "stdout",
     "output_type": "stream",
     "text": [
      " Colors coin.png 1369 / 6311                       6311                      "
     ]
    }
   ],
   "source": [
    "# Get color images\n",
    "from PIL import ImageColor\n",
    "import numpy as np\n",
    "import sklearn\n",
    "import sklearn.cluster\n",
    "import scipy\n",
    "import scipy.cluster\n",
    "import json\n",
    "\n",
    "currencies = None\n",
    "with open('tmp_step_03.json', 'r') as f:\n",
    "  currencies = json.load(f)\n",
    "\n",
    "count = len(currencies)\n",
    "\n",
    "def rgba_to_hex(r, g, b, a):\n",
    "  return ('#{:02X}{:02X}{:02X}{:02X}').format(r, g, b, a)\n",
    "\n",
    "def rgb_to_hex(r, g, b):\n",
    "  return ('#{:02X}{:02X}{:02X}').format(r, g, b)\n",
    "\n",
    "class Color:\n",
    "    def __init__(self, rgba):\n",
    "        self.rgba = rgba\n",
    "        self.hex = rgb_to_hex(rgba[0], rgba[1], rgba[2])\n",
    "        self.average = (rgba[0] + rgba[1] + rgba[2]) / 3\n",
    "\n",
    "def dominant_colors(image: Image):  # PIL image input\n",
    "    ar = np.asarray(image)\n",
    "    shape = ar.shape\n",
    "    ar = ar.reshape(np.product(shape[:2]), shape[2]).astype(float)\n",
    "\n",
    "    kmeans = sklearn.cluster.MiniBatchKMeans(n_clusters=10, init=\"k-means++\", max_iter=20, random_state=1000).fit(ar)\n",
    "    codes = kmeans.cluster_centers_\n",
    "\n",
    "    vecs, _dist = scipy.cluster.vq.vq(ar, codes)      # assign codes\n",
    "    counts, _bins = np.histogram(vecs, len(codes))    # count occurrences\n",
    "\n",
    "    colors = []\n",
    "    for index in np.argsort(counts)[::-1]:\n",
    "        colors.append(tuple([int(code) for code in codes[index]]))\n",
    "    return colors   # returns colors in order of dominance\n",
    "\n",
    "\n",
    "for idx, currency in enumerate(currencies):\n",
    "    image = None\n",
    "    try:\n",
    "        image_name = cache_image_file_name(currency['coinGeckoId'], currency['imageUrl'])\n",
    "        image_path = 'images/' + image_name\n",
    "        image = Image.open(image_path)\n",
    "    except:\n",
    "        currency[\"colors\"] = [\"#FFFFFF\", \"#000000\"]\n",
    "        continue\n",
    "    image = image = image.convert(\"RGBA\")\n",
    "    colors_rgba = dominant_colors(image)\n",
    "    colors = map(lambda rgba: Color(rgba), colors_rgba)\n",
    "    colors = filter(lambda color: color.average != 0 and color.average != 255, colors)\n",
    "    colors = sorted(colors, key=lambda x: x.average)\n",
    "    if len(colors) == 0:\n",
    "        currency[\"colors\"] = [\"#FFFFFF\", \"#000000\"]\n",
    "    else:\n",
    "        currency[\"colors\"] = [\n",
    "            colors[int(len(colors) * 0.33)].hex,\n",
    "            colors[int(len(colors) * 0.66)].hex\n",
    "        ]\n",
    "    write(currencies, 'tmp_step_04.json')\n",
    "    print('\\r', 'Colors', image_name, idx, '/', count, space, end='')"
   ],
   "metadata": {
    "collapsed": false,
    "pycharm": {
     "name": "#%%\n"
    }
   }
  },
  {
   "cell_type": "code",
   "execution_count": null,
   "outputs": [],
   "source": [
    "# Handle overrides"
   ],
   "metadata": {
    "collapsed": false,
    "pycharm": {
     "name": "#%%\n"
    }
   }
  }
 ],
 "metadata": {
  "kernelspec": {
   "display_name": "Python 3",
   "language": "python",
   "name": "python3"
  },
  "language_info": {
   "codemirror_mode": {
    "name": "ipython",
    "version": 2
   },
   "file_extension": ".py",
   "mimetype": "text/x-python",
   "name": "python",
   "nbconvert_exporter": "python",
   "pygments_lexer": "ipython2",
   "version": "2.7.6"
  }
 },
 "nbformat": 4,
 "nbformat_minor": 0
}