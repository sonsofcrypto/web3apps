{
 "cells": [
  {
   "cell_type": "code",
   "execution_count": 4,
   "metadata": {
    "collapsed": true,
    "pycharm": {
     "name": "#%%\n"
    }
   },
   "outputs": [],
   "source": [
    "import os\n",
    "import scipy\n",
    "import scipy.cluster\n",
    "import sklearn\n",
    "import sklearn.cluster\n",
    "import numpy\n",
    "from PIL import Image\n",
    "from PIL import ImageColor"
   ]
  },
  {
   "cell_type": "code",
   "execution_count": 5,
   "outputs": [],
   "source": [
    "def write(json_data: dict, file_name: str):\n",
    "    with open(file_name, 'w') as f:\n",
    "        f.write(json.dumps(json_data))"
   ],
   "metadata": {
    "collapsed": false,
    "pycharm": {
     "name": "#%%\n"
    }
   }
  },
  {
   "cell_type": "code",
   "execution_count": 6,
   "outputs": [
    {
     "name": "stdout",
     "output_type": "stream",
     "text": [
      "Downloaded list of  12956\n"
     ]
    }
   ],
   "source": [
    "# Download list of all currencies\n",
    "import urllib\n",
    "import json\n",
    "\n",
    "url = 'https://api.coingecko.com/api/v3/coins/list?include_platform=true'\n",
    "response = urllib.request.urlopen(url)\n",
    "currencies = json.loads(response.read())\n",
    "write(currencies, 'tmp_step_01.json')\n",
    "print('Downloaded list of ', len(currencies))"
   ],
   "metadata": {
    "collapsed": false,
    "pycharm": {
     "name": "#%%\n"
    }
   }
  },
  {
   "cell_type": "code",
   "execution_count": 7,
   "outputs": [
    {
     "name": "stdout",
     "output_type": "stream",
     "text": [
      "Filtered out unsupported, remaining count 6303\n"
     ]
    }
   ],
   "source": [
    "# Include only native or ethereum ERC20s\n",
    "\n",
    "def include(currency: dict) -> bool:\n",
    "    if len(currency['platforms']) == 0:\n",
    "        return True\n",
    "    if 'ethereum' in currency['platforms']:\n",
    "        return len(currency['platforms']['ethereum']) != 0\n",
    "    return False\n",
    "\n",
    "currencies = list(filter(lambda c: include(c) , currencies))\n",
    "\n",
    "# Change id to coinGeckoId\n",
    "for currency in currencies:\n",
    "    currency['coinGeckoId'] = currency['id']\n",
    "    currency.pop('id', None )\n",
    "\n",
    "write(currencies, 'tmp_step_02.json')\n",
    "print('Filtered out unsupported, remaining count', len(currencies))"
   ],
   "metadata": {
    "collapsed": false,
    "pycharm": {
     "name": "#%%\n"
    }
   }
  },
  {
   "cell_type": "code",
   "execution_count": 10,
   "outputs": [
    {
     "ename": "KeyboardInterrupt",
     "evalue": "",
     "output_type": "error",
     "traceback": [
      "\u001B[0;31m---------------------------------------------------------------------------\u001B[0m",
      "\u001B[0;31mKeyboardInterrupt\u001B[0m                         Traceback (most recent call last)",
      "Input \u001B[0;32mIn [10]\u001B[0m, in \u001B[0;36m<cell line: 8>\u001B[0;34m()\u001B[0m\n\u001B[1;32m     18\u001B[0m currency[\u001B[38;5;124m'\u001B[39m\u001B[38;5;124mrank\u001B[39m\u001B[38;5;124m'\u001B[39m] \u001B[38;5;241m=\u001B[39m info[\u001B[38;5;124m'\u001B[39m\u001B[38;5;124mcoingecko_rank\u001B[39m\u001B[38;5;124m'\u001B[39m]\n\u001B[1;32m     19\u001B[0m write(currencies, \u001B[38;5;124m'\u001B[39m\u001B[38;5;124mtmp_step_03.json\u001B[39m\u001B[38;5;124m'\u001B[39m)\n\u001B[0;32m---> 20\u001B[0m \u001B[43mtime\u001B[49m\u001B[38;5;241;43m.\u001B[39;49m\u001B[43msleep\u001B[49m\u001B[43m(\u001B[49m\u001B[38;5;241;43m2\u001B[39;49m\u001B[43m)\u001B[49m\n",
      "\u001B[0;31mKeyboardInterrupt\u001B[0m: "
     ]
    }
   ],
   "source": [
    "# Get image url rank description\n",
    "import time\n",
    "\n",
    "base_url = 'https://api.coingecko.com/api/v3/coins/'\n",
    "query_params = '?localization=false&tickers=false&market_data=false&community_data=false&developer_data=false&sparkline=false'\n",
    "processed_currencies = list()\n",
    "\n",
    "for currency in currencies:\n",
    "    url = base_url + currency['coinGeckoId'] + query_params\n",
    "    response = urllib.request.urlopen(url)\n",
    "    info = json.loads(response.read())\n",
    "    currency['description'] = info['description']['en']\n",
    "    currency['link'] = info['links']['homepage'][0]\n",
    "    currency['twitter'] = info['links']['twitter_screen_name']\n",
    "    currency['imageUrl'] = info['image']['large']\n",
    "    currency['rank'] = info['coingecko_rank']\n",
    "    write(currencies, 'tmp_step_03.json')\n",
    "    time.sleep(2)"
   ],
   "metadata": {
    "collapsed": false,
    "pycharm": {
     "name": "#%%\n"
    }
   }
  }
 ],
 "metadata": {
  "kernelspec": {
   "display_name": "Python 3",
   "language": "python",
   "name": "python3"
  },
  "language_info": {
   "codemirror_mode": {
    "name": "ipython",
    "version": 2
   },
   "file_extension": ".py",
   "mimetype": "text/x-python",
   "name": "python",
   "nbconvert_exporter": "python",
   "pygments_lexer": "ipython2",
   "version": "2.7.6"
  }
 },
 "nbformat": 4,
 "nbformat_minor": 0
}