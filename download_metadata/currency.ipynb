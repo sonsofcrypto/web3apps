{
 "cells": [
  {
   "cell_type": "code",
   "execution_count": 9,
   "metadata": {
    "collapsed": true,
    "pycharm": {
     "name": "#%%\n"
    }
   },
   "outputs": [
    {
     "ename": "ModuleNotFoundError",
     "evalue": "No module named 'scipy'",
     "output_type": "error",
     "traceback": [
      "\u001B[0;31m---------------------------------------------------------------------------\u001B[0m",
      "\u001B[0;31mModuleNotFoundError\u001B[0m                       Traceback (most recent call last)",
      "Input \u001B[0;32mIn [9]\u001B[0m, in \u001B[0;36m<cell line: 2>\u001B[0;34m()\u001B[0m\n\u001B[1;32m      1\u001B[0m \u001B[38;5;28;01mimport\u001B[39;00m \u001B[38;5;21;01mos\u001B[39;00m\n\u001B[0;32m----> 2\u001B[0m \u001B[38;5;28;01mimport\u001B[39;00m \u001B[38;5;21;01mscipy\u001B[39;00m\n\u001B[1;32m      3\u001B[0m \u001B[38;5;28;01mimport\u001B[39;00m \u001B[38;5;21;01mscipy\u001B[39;00m\u001B[38;5;21;01m.\u001B[39;00m\u001B[38;5;21;01mcluster\u001B[39;00m\n\u001B[1;32m      4\u001B[0m \u001B[38;5;28;01mimport\u001B[39;00m \u001B[38;5;21;01msklearn\u001B[39;00m\n",
      "\u001B[0;31mModuleNotFoundError\u001B[0m: No module named 'scipy'"
     ]
    }
   ],
   "source": [
    "import os\n",
    "import scipy\n",
    "import scipy.cluster\n",
    "import sklearn\n",
    "import sklearn.cluster\n",
    "import numpy\n",
    "from PIL import Image\n",
    "from PIL import ImageColor"
   ]
  },
  {
   "cell_type": "code",
   "execution_count": 13,
   "outputs": [],
   "source": [
    "def write(json_data: dict, file_name: str):\n",
    "    with open(file_name, 'w') as f:\n",
    "        f.write(json.dumps(json_data))"
   ],
   "metadata": {
    "collapsed": false,
    "pycharm": {
     "name": "#%%\n"
    }
   }
  },
  {
   "cell_type": "code",
   "execution_count": 14,
   "outputs": [
    {
     "name": "stdout",
     "output_type": "stream",
     "text": [
      "Downloaded list of  12951\n"
     ]
    }
   ],
   "source": [
    "# Download list of all currencies\n",
    "import urllib\n",
    "import json\n",
    "\n",
    "url = 'https://api.coingecko.com/api/v3/coins/list?include_platform=true'\n",
    "response = urllib.request.urlopen(url)\n",
    "currencies = json.loads(response.read())\n",
    "write(currencies, 'tmp_step_01.json')\n",
    "print('Downloaded list of ', len(currencies))"
   ],
   "metadata": {
    "collapsed": false,
    "pycharm": {
     "name": "#%%\n"
    }
   }
  },
  {
   "cell_type": "code",
   "execution_count": 16,
   "outputs": [
    {
     "name": "stdout",
     "output_type": "stream",
     "text": [
      "Filtered out unsupported, remaining count 6301\n"
     ]
    }
   ],
   "source": [
    "# Include only native or ethereum ERC20s\n",
    "\n",
    "def include(currency: dict) -> bool:\n",
    "    if len(currency['platforms']) == 0:\n",
    "        return True\n",
    "    if 'ethereum' in currency['platforms']:\n",
    "        return len(currency['platforms']['ethereum']) != 0\n",
    "    return False\n",
    "\n",
    "currencies = list(filter(lambda c: include(c) , currencies))\n",
    "write(currencies, 'tmp_step_02.json')\n",
    "print('Filtered out unsupported, remaining count', len(currencies))"
   ],
   "metadata": {
    "collapsed": false,
    "pycharm": {
     "name": "#%%\n"
    }
   }
  },
  {
   "cell_type": "code",
   "execution_count": 12,
   "outputs": [],
   "source": [
    "# Get image url rank description\n",
    "\n",
    "base_url = 'https://api.coingecko.com/api/v3/coins/'\n",
    "query_params = '?localization=false&tickers=false&market_data=false&community_data=false&developer_data=false&sparkline=false'\n",
    "processed_currencies = list()\n",
    "\n",
    "for currency in currencies:\n",
    "    url = base_url + currency['id'] + query_params\n",
    "    response = urllib.request.urlopen(url)\n",
    "    info = json.loads(response.read())\n",
    "    currency['description'] = info['description']['en']\n",
    "    currency['link'] = info['links']['homepage'][0]\n",
    "    currency['twitter'] = info['links']['homepage'][0]\n",
    "\n",
    "id\n",
    "symbol\n",
    "name\n",
    "platforms\n",
    "description en\n",
    "links homepage 1st\n",
    "links twitter_screen_name\n",
    "image large\n",
    "coingecko_rank\n"
   ],
   "metadata": {
    "collapsed": false,
    "pycharm": {
     "name": "#%%\n"
    }
   }
  }
 ],
 "metadata": {
  "kernelspec": {
   "display_name": "Python 3",
   "language": "python",
   "name": "python3"
  },
  "language_info": {
   "codemirror_mode": {
    "name": "ipython",
    "version": 2
   },
   "file_extension": ".py",
   "mimetype": "text/x-python",
   "name": "python",
   "nbconvert_exporter": "python",
   "pygments_lexer": "ipython2",
   "version": "2.7.6"
  }
 },
 "nbformat": 4,
 "nbformat_minor": 0
}