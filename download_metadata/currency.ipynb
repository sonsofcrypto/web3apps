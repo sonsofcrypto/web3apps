{
 "cells": [
  {
   "cell_type": "code",
   "execution_count": null,
   "outputs": [],
   "source": [
    "def write(json_data: dict, file_name: str):\n",
    "    with open(file_name, 'w') as f:\n",
    "        f.write(json.dumps(json_data))"
   ],
   "metadata": {
    "collapsed": false,
    "pycharm": {
     "name": "#%%\n"
    }
   }
  },
  {
   "cell_type": "code",
   "execution_count": null,
   "outputs": [],
   "source": [
    "# Download list of all currencies\n",
    "import urllib\n",
    "import json\n",
    "import time\n",
    "\n",
    "url = 'https://api.coingecko.com/api/v3/coins/list?include_platform=true'\n",
    "response = urllib.request.urlopen(url)\n",
    "currencies = json.loads(response.read())\n",
    "write(currencies, 'tmp_step_01.json')\n",
    "print('Downloaded list of ', len(currencies))\n",
    "time.sleep(1.21)"
   ],
   "metadata": {
    "collapsed": false,
    "pycharm": {
     "name": "#%%\n"
    }
   }
  },
  {
   "cell_type": "code",
   "execution_count": null,
   "outputs": [],
   "source": [
    "# Include only native or ethereum ERC20s\n",
    "\n",
    "def include(currency: dict) -> bool:\n",
    "    if len(currency['platforms']) == 0:\n",
    "        return True\n",
    "    if 'ethereum' in currency['platforms']:\n",
    "        return len(currency['platforms']['ethereum']) != 0\n",
    "    return False\n",
    "\n",
    "currencies = list(filter(lambda c: include(c) , currencies))\n",
    "\n",
    "# Change id to coinGeckoId\n",
    "for currency in currencies:\n",
    "    currency['coinGeckoId'] = currency['id']\n",
    "    currency.pop('id', None )\n",
    "\n",
    "write(currencies, 'tmp_step_02.json')\n",
    "print('Filtered out unsupported, remaining count', len(currencies))"
   ],
   "metadata": {
    "collapsed": false,
    "pycharm": {
     "name": "#%%\n"
    }
   }
  },
  {
   "cell_type": "code",
   "execution_count": null,
   "outputs": [],
   "source": [
    "# Get image url rank description\n",
    "import time\n",
    "import numpy as np\n",
    "import requests\n",
    "\n",
    "base_url = 'https://api.coingecko.com/api/v3/coins/'\n",
    "query_params = '?localization=false&tickers=false&market_data=false&community_data=false&developer_data=false&sparkline=false'\n",
    "\n",
    "for idx, currency in enumerate(currencies):\n",
    "    url = base_url + currency['coinGeckoId'] + query_params\n",
    "    response = urllib.request.urlopen(url)\n",
    "    info = json.loads(response.read())\n",
    "\n",
    "    currency['imageUrl'] = info['image']['large']\n",
    "    currency['rank'] = info['coingecko_rank']\n",
    "\n",
    "    if info['links']['homepage'][0] is not None:\n",
    "        currency['link'] = info['links']['homepage'][0]\n",
    "\n",
    "    if info['links']['twitter_screen_name'] is not None:\n",
    "        currency['twitter'] = info['links']['twitter_screen_name']\n",
    "\n",
    "    if info['description']['en'] is not None and len(info['description']['en']) != 0:\n",
    "        currency['description'] = info['description']['en']\n",
    "\n",
    "    write(currencies, 'tmp_step_03.json')\n",
    "    print('\\r', 'Downloaded metadata', idx, end='')\n",
    "    time.sleep(1.21)"
   ],
   "metadata": {
    "collapsed": false,
    "pycharm": {
     "name": "#%%\n"
    }
   }
  },
  {
   "cell_type": "code",
   "execution_count": null,
   "outputs": [],
   "source": [
    "# Download images if needed\n",
    "from urllib.parse import urljoin, urlparse\n",
    "import os\n",
    "import platform\n",
    "import requests\n",
    "import shutil\n",
    "\n",
    "def file_name_for_url(url: str) -> str:\n",
    "    return urljoin(url, urlparse(url).path).rsplit('/', 1)[-1]\n",
    "\n",
    "def file_extension_for_url(url: str) -> str:\n",
    "    return os.path.splitext(file_name_for_url(url))[-1]\n",
    "\n",
    "def cache_image_file_name(id: str, url: str) -> str:\n",
    "    return id + file_extension_for_url(url)\n",
    "\n",
    "headers = requests.utils.default_headers()\n",
    "default_agent = headers['User-Agent']\n",
    "headers.update({'User-Agent': default_agent + ' (' + platform.platform() + ')'})\n",
    "failed = list()\n",
    "\n",
    "for idx, currency in enumerate(currencies):\n",
    "    image_name = cache_image_file_name(currency['coinGeckoId'], currency['imageUrl'])\n",
    "    image_path = 'images/' + image_name\n",
    "    if os.path.exists(image_path) == False and currency['imageUrl']:\n",
    "        res = requests.get(url, headers = headers, stream = True)\n",
    "    if res.status_code == 200:\n",
    "        with open(image_path, 'wb') as f:\n",
    "            shutil.copyfileobj(res.raw, f)\n",
    "            print('\\r', 'Downloaded image', image_name, idx, '         ', end='')\n",
    "    else:\n",
    "        failed.append(currency['imageUrl'])\n",
    "    time.sleep(1.21)\n",
    "\n",
    "print('Failed count', len(failed))"
   ],
   "metadata": {
    "collapsed": false,
    "pycharm": {
     "name": "#%%\n"
    }
   }
  },
  {
   "cell_type": "code",
   "execution_count": null,
   "outputs": [],
   "source": [
    "# Resize images\n",
    "from PIL import Image\n",
    "from PIL import ImageColor\n",
    "import os\n",
    "\n",
    "for image_name in os.listdir('images/'):\n",
    "    path = 'images/' + image_name\n",
    "\n",
    "\n",
    "# for idx, currency in enumerate(currencies):\n",
    "#     image_name = cache_image_file_name(currency['coinGeckoId'], currency['imageUrl'])\n",
    "#     exists = os.path.exists('images/' + image_name)\n",
    "#     print(exists, image_name)"
   ],
   "metadata": {
    "collapsed": false,
    "pycharm": {
     "name": "#%%\n"
    }
   }
  },
  {
   "cell_type": "code",
   "execution_count": null,
   "outputs": [],
   "source": [
    "# Resize images\n",
    "from PIL import Image\n",
    "from PIL import ImageColor\n",
    "import os\n",
    "\n",
    "for image_name in os.listdir('images/'):\n",
    "    path = 'images/' + image_name\n",
    "\n",
    "\n",
    "# for idx, currency in enumerate(currencies):\n",
    "#     image_name = cache_image_file_name(currency['coinGeckoId'], currency['imageUrl'])\n",
    "#     exists = os.path.exists('images/' + image_name)\n",
    "#     print(exists, image_name)"
   ],
   "metadata": {
    "collapsed": false,
    "pycharm": {
     "name": "#%%\n"
    }
   }
  }
 ],
 "metadata": {
  "kernelspec": {
   "display_name": "Python 3",
   "language": "python",
   "name": "python3"
  },
  "language_info": {
   "codemirror_mode": {
    "name": "ipython",
    "version": 2
   },
   "file_extension": ".py",
   "mimetype": "text/x-python",
   "name": "python",
   "nbconvert_exporter": "python",
   "pygments_lexer": "ipython2",
   "version": "2.7.6"
  }
 },
 "nbformat": 4,
 "nbformat_minor": 0
}